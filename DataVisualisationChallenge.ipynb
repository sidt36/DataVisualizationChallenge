{
 "cells": [
  {
   "cell_type": "code",
   "execution_count": 1,
   "metadata": {},
   "outputs": [],
   "source": [
    "import pandas as pd\n",
    "import numpy as np\n",
    "import seaborn as sns\n",
    "import matplotlib.pyplot as plt\n"
   ]
  },
  {
   "cell_type": "code",
   "execution_count": 2,
   "metadata": {},
   "outputs": [],
   "source": [
    "df = pd.read_csv('https://raw.githubusercontent.com/analytics-club-iitm/Daily-Sessions/master/Visualization-challenge/data.csv')"
   ]
  },
  {
   "cell_type": "code",
   "execution_count": 3,
   "metadata": {},
   "outputs": [
    {
     "data": {
      "text/html": [
       "<div>\n",
       "<style scoped>\n",
       "    .dataframe tbody tr th:only-of-type {\n",
       "        vertical-align: middle;\n",
       "    }\n",
       "\n",
       "    .dataframe tbody tr th {\n",
       "        vertical-align: top;\n",
       "    }\n",
       "\n",
       "    .dataframe thead th {\n",
       "        text-align: right;\n",
       "    }\n",
       "</style>\n",
       "<table border=\"1\" class=\"dataframe\">\n",
       "  <thead>\n",
       "    <tr style=\"text-align: right;\">\n",
       "      <th></th>\n",
       "      <th>S.No</th>\n",
       "      <th>EmpID</th>\n",
       "      <th>Emp Name</th>\n",
       "      <th>DOJ</th>\n",
       "      <th>Designation</th>\n",
       "      <th>Grade</th>\n",
       "      <th>Attrition</th>\n",
       "      <th>Location</th>\n",
       "      <th>In Active Date</th>\n",
       "      <th>Tenure</th>\n",
       "      <th>Gender</th>\n",
       "      <th>Education</th>\n",
       "      <th>Age</th>\n",
       "      <th>Last Rating</th>\n",
       "      <th>Monthly Income</th>\n",
       "      <th>Engagement Score (% Satisfaction)</th>\n",
       "      <th>Marital Status</th>\n",
       "      <th>Zone</th>\n",
       "      <th>Remarks</th>\n",
       "    </tr>\n",
       "  </thead>\n",
       "  <tbody>\n",
       "    <tr>\n",
       "      <td>0</td>\n",
       "      <td>1</td>\n",
       "      <td>XYZ2685</td>\n",
       "      <td>ABC1</td>\n",
       "      <td>22-Nov-10</td>\n",
       "      <td>Sales Executive</td>\n",
       "      <td>E1</td>\n",
       "      <td>Yes</td>\n",
       "      <td>Bhavnagar</td>\n",
       "      <td>26-May-12</td>\n",
       "      <td>1. 6</td>\n",
       "      <td>Female</td>\n",
       "      <td>Bachelors</td>\n",
       "      <td>27</td>\n",
       "      <td>4</td>\n",
       "      <td>25535</td>\n",
       "      <td>2%</td>\n",
       "      <td>Divorced</td>\n",
       "      <td>West</td>\n",
       "      <td>Issues with the Manager</td>\n",
       "    </tr>\n",
       "    <tr>\n",
       "      <td>1</td>\n",
       "      <td>2</td>\n",
       "      <td>XYZ2490</td>\n",
       "      <td>ABC2</td>\n",
       "      <td>5-Jul-10</td>\n",
       "      <td>Technical Services Officer</td>\n",
       "      <td>M2</td>\n",
       "      <td>Yes</td>\n",
       "      <td>Jayanagar</td>\n",
       "      <td>6-Apr-12</td>\n",
       "      <td>1. 9</td>\n",
       "      <td>Male</td>\n",
       "      <td>MBA</td>\n",
       "      <td>36</td>\n",
       "      <td>2</td>\n",
       "      <td>52155</td>\n",
       "      <td>45%</td>\n",
       "      <td>Single</td>\n",
       "      <td>South</td>\n",
       "      <td>More Challenging Job Roles/ Higher designation</td>\n",
       "    </tr>\n",
       "    <tr>\n",
       "      <td>2</td>\n",
       "      <td>3</td>\n",
       "      <td>XYZ2662</td>\n",
       "      <td>ABC3</td>\n",
       "      <td>20-Oct-10</td>\n",
       "      <td>Sales Executive</td>\n",
       "      <td>E1</td>\n",
       "      <td>Yes</td>\n",
       "      <td>Indore</td>\n",
       "      <td>7-Apr-12</td>\n",
       "      <td>1. 5</td>\n",
       "      <td>Male</td>\n",
       "      <td>Bachelors</td>\n",
       "      <td>24</td>\n",
       "      <td>4</td>\n",
       "      <td>26438</td>\n",
       "      <td>18%</td>\n",
       "      <td>Divorced</td>\n",
       "      <td>CENTRAL</td>\n",
       "      <td>Issues with the Manager</td>\n",
       "    </tr>\n",
       "    <tr>\n",
       "      <td>3</td>\n",
       "      <td>4</td>\n",
       "      <td>XYZ1679</td>\n",
       "      <td>ABC4</td>\n",
       "      <td>1 May 08</td>\n",
       "      <td>AM - Sales</td>\n",
       "      <td>M1</td>\n",
       "      <td>Yes</td>\n",
       "      <td>Admin Gujarat</td>\n",
       "      <td>3 Apr 12</td>\n",
       "      <td>3 .11</td>\n",
       "      <td>Male</td>\n",
       "      <td>Bachelors</td>\n",
       "      <td>33</td>\n",
       "      <td>2</td>\n",
       "      <td>54311</td>\n",
       "      <td>82%</td>\n",
       "      <td>Single</td>\n",
       "      <td>West</td>\n",
       "      <td>Lack of Growth</td>\n",
       "    </tr>\n",
       "    <tr>\n",
       "      <td>4</td>\n",
       "      <td>5</td>\n",
       "      <td>XYZ2378</td>\n",
       "      <td>ABC5</td>\n",
       "      <td>3 Mar 10</td>\n",
       "      <td>Sales Executive</td>\n",
       "      <td>E1</td>\n",
       "      <td>Yes</td>\n",
       "      <td>Jagdishpuram</td>\n",
       "      <td>10 Apr 12</td>\n",
       "      <td>2 .1</td>\n",
       "      <td>Male</td>\n",
       "      <td>Bachelors</td>\n",
       "      <td>24</td>\n",
       "      <td>4</td>\n",
       "      <td>26702</td>\n",
       "      <td>49%</td>\n",
       "      <td>Divorced</td>\n",
       "      <td>North</td>\n",
       "      <td>Issues with the Manager</td>\n",
       "    </tr>\n",
       "  </tbody>\n",
       "</table>\n",
       "</div>"
      ],
      "text/plain": [
       "   S.No    EmpID Emp Name        DOJ                 Designation Grade  \\\n",
       "0     1  XYZ2685     ABC1  22-Nov-10             Sales Executive    E1   \n",
       "1     2  XYZ2490     ABC2   5-Jul-10  Technical Services Officer    M2   \n",
       "2     3  XYZ2662     ABC3  20-Oct-10             Sales Executive    E1   \n",
       "3     4  XYZ1679     ABC4   1 May 08                  AM - Sales    M1   \n",
       "4     5  XYZ2378     ABC5   3 Mar 10            Sales Executive     E1   \n",
       "\n",
       "  Attrition        Location In Active Date  Tenure  Gender  Education  Age  \\\n",
       "0        Yes      Bhavnagar      26-May-12   1. 6   Female  Bachelors   27   \n",
       "1        Yes      Jayanagar       6-Apr-12   1. 9     Male        MBA   36   \n",
       "2        Yes         Indore       7-Apr-12   1. 5     Male  Bachelors   24   \n",
       "3        Yes  Admin Gujarat       3 Apr 12  3 .11     Male  Bachelors   33   \n",
       "4        Yes   Jagdishpuram      10 Apr 12   2 .1     Male  Bachelors   24   \n",
       "\n",
       "   Last Rating  Monthly Income Engagement Score (% Satisfaction)  \\\n",
       "0            4           25535                                2%   \n",
       "1            2           52155                               45%   \n",
       "2            4           26438                               18%   \n",
       "3            2           54311                               82%   \n",
       "4            4           26702                               49%   \n",
       "\n",
       "  Marital Status     Zone                                         Remarks  \n",
       "0       Divorced     West                         Issues with the Manager  \n",
       "1        Single     South  More Challenging Job Roles/ Higher designation  \n",
       "2       Divorced  CENTRAL                         Issues with the Manager  \n",
       "3        Single      West                                  Lack of Growth  \n",
       "4       Divorced    North                         Issues with the Manager  "
      ]
     },
     "execution_count": 3,
     "metadata": {},
     "output_type": "execute_result"
    }
   ],
   "source": [
    "df.head()"
   ]
  },
  {
   "cell_type": "code",
   "execution_count": 4,
   "metadata": {},
   "outputs": [
    {
     "data": {
      "text/plain": [
       "6213"
      ]
     },
     "execution_count": 4,
     "metadata": {},
     "output_type": "execute_result"
    }
   ],
   "source": [
    "df.size"
   ]
  },
  {
   "cell_type": "code",
   "execution_count": 5,
   "metadata": {},
   "outputs": [
    {
     "data": {
      "text/plain": [
       "(327, 19)"
      ]
     },
     "execution_count": 5,
     "metadata": {},
     "output_type": "execute_result"
    }
   ],
   "source": [
    "df.shape"
   ]
  },
  {
   "cell_type": "code",
   "execution_count": 6,
   "metadata": {},
   "outputs": [
    {
     "data": {
      "text/html": [
       "<div>\n",
       "<style scoped>\n",
       "    .dataframe tbody tr th:only-of-type {\n",
       "        vertical-align: middle;\n",
       "    }\n",
       "\n",
       "    .dataframe tbody tr th {\n",
       "        vertical-align: top;\n",
       "    }\n",
       "\n",
       "    .dataframe thead th {\n",
       "        text-align: right;\n",
       "    }\n",
       "</style>\n",
       "<table border=\"1\" class=\"dataframe\">\n",
       "  <thead>\n",
       "    <tr style=\"text-align: right;\">\n",
       "      <th></th>\n",
       "      <th>S.No</th>\n",
       "      <th>EmpID</th>\n",
       "      <th>Emp Name</th>\n",
       "      <th>DOJ</th>\n",
       "      <th>Designation</th>\n",
       "      <th>Grade</th>\n",
       "      <th>Attrition</th>\n",
       "      <th>Location</th>\n",
       "      <th>In Active Date</th>\n",
       "      <th>Tenure</th>\n",
       "      <th>Gender</th>\n",
       "      <th>Education</th>\n",
       "      <th>Age</th>\n",
       "      <th>Last Rating</th>\n",
       "      <th>Monthly Income</th>\n",
       "      <th>Engagement Score (% Satisfaction)</th>\n",
       "      <th>Marital Status</th>\n",
       "      <th>Zone</th>\n",
       "      <th>Remarks</th>\n",
       "    </tr>\n",
       "  </thead>\n",
       "  <tbody>\n",
       "    <tr>\n",
       "      <td>322</td>\n",
       "      <td>323</td>\n",
       "      <td>XYZ1538</td>\n",
       "      <td>ABC323</td>\n",
       "      <td>26-May-08</td>\n",
       "      <td>AM - Sales</td>\n",
       "      <td>M1</td>\n",
       "      <td>Yes</td>\n",
       "      <td>Guntur</td>\n",
       "      <td>15 Mar 13</td>\n",
       "      <td>4 .9</td>\n",
       "      <td>Male</td>\n",
       "      <td>Bachelors</td>\n",
       "      <td>37</td>\n",
       "      <td>2</td>\n",
       "      <td>53841</td>\n",
       "      <td>69%</td>\n",
       "      <td>Divorced</td>\n",
       "      <td>South</td>\n",
       "      <td>Lack of Growth</td>\n",
       "    </tr>\n",
       "    <tr>\n",
       "      <td>323</td>\n",
       "      <td>324</td>\n",
       "      <td>XYZ3221</td>\n",
       "      <td>ABC324</td>\n",
       "      <td>13-Sep-12</td>\n",
       "      <td>Sales Executive</td>\n",
       "      <td>E1</td>\n",
       "      <td>Yes</td>\n",
       "      <td>Guntur</td>\n",
       "      <td>7 Mar 13</td>\n",
       "      <td>0. 5</td>\n",
       "      <td>Male</td>\n",
       "      <td>Bachelors</td>\n",
       "      <td>25</td>\n",
       "      <td>3</td>\n",
       "      <td>25813</td>\n",
       "      <td>11%</td>\n",
       "      <td>Married</td>\n",
       "      <td>South</td>\n",
       "      <td>Lack of Growth</td>\n",
       "    </tr>\n",
       "    <tr>\n",
       "      <td>324</td>\n",
       "      <td>325</td>\n",
       "      <td>XYZ0207</td>\n",
       "      <td>ABC325</td>\n",
       "      <td>12-Dec-05</td>\n",
       "      <td>Sr Sales Executive</td>\n",
       "      <td>E2</td>\n",
       "      <td>Yes</td>\n",
       "      <td>Guntur</td>\n",
       "      <td>12 Mar 13</td>\n",
       "      <td>7 .3</td>\n",
       "      <td>Male</td>\n",
       "      <td>Bachelors</td>\n",
       "      <td>28</td>\n",
       "      <td>1</td>\n",
       "      <td>36498</td>\n",
       "      <td>11%</td>\n",
       "      <td>Divorced</td>\n",
       "      <td>South</td>\n",
       "      <td>Lack of Growth</td>\n",
       "    </tr>\n",
       "    <tr>\n",
       "      <td>325</td>\n",
       "      <td>326</td>\n",
       "      <td>XYZ0183</td>\n",
       "      <td>ABC326</td>\n",
       "      <td>21-Jul-04</td>\n",
       "      <td>AM - Sales</td>\n",
       "      <td>M1</td>\n",
       "      <td>Yes</td>\n",
       "      <td>Guntur</td>\n",
       "      <td>31 Mar 13</td>\n",
       "      <td>8 .8</td>\n",
       "      <td>Male</td>\n",
       "      <td>Bachelors</td>\n",
       "      <td>36</td>\n",
       "      <td>3</td>\n",
       "      <td>51796</td>\n",
       "      <td>82%</td>\n",
       "      <td>Divorced</td>\n",
       "      <td>South</td>\n",
       "      <td>Termination - Poor Performance</td>\n",
       "    </tr>\n",
       "    <tr>\n",
       "      <td>326</td>\n",
       "      <td>327</td>\n",
       "      <td>XYZ3381</td>\n",
       "      <td>ABC327</td>\n",
       "      <td>22-Feb-13</td>\n",
       "      <td>Sales Executive</td>\n",
       "      <td>E1</td>\n",
       "      <td>Yes</td>\n",
       "      <td>Hinoo</td>\n",
       "      <td>8 Mar 13</td>\n",
       "      <td>0. 0</td>\n",
       "      <td>Male</td>\n",
       "      <td>Bachelors</td>\n",
       "      <td>27</td>\n",
       "      <td>4</td>\n",
       "      <td>26678</td>\n",
       "      <td>49%</td>\n",
       "      <td>Divorced</td>\n",
       "      <td>East</td>\n",
       "      <td>Issues with the Manager</td>\n",
       "    </tr>\n",
       "  </tbody>\n",
       "</table>\n",
       "</div>"
      ],
      "text/plain": [
       "     S.No    EmpID Emp Name        DOJ         Designation Grade Attrition   \\\n",
       "322   323  XYZ1538   ABC323  26-May-08          AM - Sales    M1        Yes   \n",
       "323   324  XYZ3221   ABC324  13-Sep-12     Sales Executive    E1        Yes   \n",
       "324   325  XYZ0207   ABC325  12-Dec-05  Sr Sales Executive    E2        Yes   \n",
       "325   326  XYZ0183   ABC326  21-Jul-04          AM - Sales    M1        Yes   \n",
       "326   327  XYZ3381   ABC327  22-Feb-13     Sales Executive    E1        Yes   \n",
       "\n",
       "    Location In Active Date Tenure Gender  Education  Age  Last Rating  \\\n",
       "322   Guntur      15 Mar 13  4 .9    Male  Bachelors   37            2   \n",
       "323   Guntur       7 Mar 13  0. 5    Male  Bachelors   25            3   \n",
       "324   Guntur      12 Mar 13  7 .3    Male  Bachelors   28            1   \n",
       "325   Guntur      31 Mar 13  8 .8    Male  Bachelors   36            3   \n",
       "326    Hinoo       8 Mar 13  0. 0    Male  Bachelors   27            4   \n",
       "\n",
       "     Monthly Income Engagement Score (% Satisfaction) Marital Status   Zone  \\\n",
       "322           53841                               69%       Divorced  South   \n",
       "323           25813                               11%        Married  South   \n",
       "324           36498                               11%       Divorced  South   \n",
       "325           51796                               82%       Divorced  South   \n",
       "326           26678                               49%       Divorced   East   \n",
       "\n",
       "                            Remarks  \n",
       "322                  Lack of Growth  \n",
       "323                  Lack of Growth  \n",
       "324                  Lack of Growth  \n",
       "325  Termination - Poor Performance  \n",
       "326         Issues with the Manager  "
      ]
     },
     "execution_count": 6,
     "metadata": {},
     "output_type": "execute_result"
    }
   ],
   "source": [
    "df.tail()"
   ]
  },
  {
   "cell_type": "code",
   "execution_count": 7,
   "metadata": {},
   "outputs": [
    {
     "data": {
      "text/html": [
       "<div>\n",
       "<style scoped>\n",
       "    .dataframe tbody tr th:only-of-type {\n",
       "        vertical-align: middle;\n",
       "    }\n",
       "\n",
       "    .dataframe tbody tr th {\n",
       "        vertical-align: top;\n",
       "    }\n",
       "\n",
       "    .dataframe thead th {\n",
       "        text-align: right;\n",
       "    }\n",
       "</style>\n",
       "<table border=\"1\" class=\"dataframe\">\n",
       "  <thead>\n",
       "    <tr style=\"text-align: right;\">\n",
       "      <th></th>\n",
       "      <th>S.No</th>\n",
       "      <th>Age</th>\n",
       "      <th>Last Rating</th>\n",
       "      <th>Monthly Income</th>\n",
       "    </tr>\n",
       "  </thead>\n",
       "  <tbody>\n",
       "    <tr>\n",
       "      <td>count</td>\n",
       "      <td>327.000000</td>\n",
       "      <td>327.000000</td>\n",
       "      <td>327.000000</td>\n",
       "      <td>327.000000</td>\n",
       "    </tr>\n",
       "    <tr>\n",
       "      <td>mean</td>\n",
       "      <td>164.000000</td>\n",
       "      <td>28.541284</td>\n",
       "      <td>3.229358</td>\n",
       "      <td>32592.948012</td>\n",
       "    </tr>\n",
       "    <tr>\n",
       "      <td>std</td>\n",
       "      <td>94.540996</td>\n",
       "      <td>5.048596</td>\n",
       "      <td>1.038814</td>\n",
       "      <td>15995.368859</td>\n",
       "    </tr>\n",
       "    <tr>\n",
       "      <td>min</td>\n",
       "      <td>1.000000</td>\n",
       "      <td>24.000000</td>\n",
       "      <td>1.000000</td>\n",
       "      <td>25010.000000</td>\n",
       "    </tr>\n",
       "    <tr>\n",
       "      <td>25%</td>\n",
       "      <td>82.500000</td>\n",
       "      <td>25.000000</td>\n",
       "      <td>2.000000</td>\n",
       "      <td>25704.500000</td>\n",
       "    </tr>\n",
       "    <tr>\n",
       "      <td>50%</td>\n",
       "      <td>164.000000</td>\n",
       "      <td>27.000000</td>\n",
       "      <td>3.000000</td>\n",
       "      <td>26389.000000</td>\n",
       "    </tr>\n",
       "    <tr>\n",
       "      <td>75%</td>\n",
       "      <td>245.500000</td>\n",
       "      <td>28.500000</td>\n",
       "      <td>4.000000</td>\n",
       "      <td>31916.000000</td>\n",
       "    </tr>\n",
       "    <tr>\n",
       "      <td>max</td>\n",
       "      <td>327.000000</td>\n",
       "      <td>54.000000</td>\n",
       "      <td>5.000000</td>\n",
       "      <td>233954.000000</td>\n",
       "    </tr>\n",
       "  </tbody>\n",
       "</table>\n",
       "</div>"
      ],
      "text/plain": [
       "             S.No         Age  Last Rating  Monthly Income\n",
       "count  327.000000  327.000000   327.000000      327.000000\n",
       "mean   164.000000   28.541284     3.229358    32592.948012\n",
       "std     94.540996    5.048596     1.038814    15995.368859\n",
       "min      1.000000   24.000000     1.000000    25010.000000\n",
       "25%     82.500000   25.000000     2.000000    25704.500000\n",
       "50%    164.000000   27.000000     3.000000    26389.000000\n",
       "75%    245.500000   28.500000     4.000000    31916.000000\n",
       "max    327.000000   54.000000     5.000000   233954.000000"
      ]
     },
     "execution_count": 7,
     "metadata": {},
     "output_type": "execute_result"
    }
   ],
   "source": [
    "df.describe()"
   ]
  },
  {
   "cell_type": "code",
   "execution_count": 8,
   "metadata": {},
   "outputs": [
    {
     "data": {
      "text/html": [
       "<div>\n",
       "<style scoped>\n",
       "    .dataframe tbody tr th:only-of-type {\n",
       "        vertical-align: middle;\n",
       "    }\n",
       "\n",
       "    .dataframe tbody tr th {\n",
       "        vertical-align: top;\n",
       "    }\n",
       "\n",
       "    .dataframe thead th {\n",
       "        text-align: right;\n",
       "    }\n",
       "</style>\n",
       "<table border=\"1\" class=\"dataframe\">\n",
       "  <thead>\n",
       "    <tr style=\"text-align: right;\">\n",
       "      <th></th>\n",
       "      <th>S.No</th>\n",
       "      <th>EmpID</th>\n",
       "      <th>Emp Name</th>\n",
       "      <th>DOJ</th>\n",
       "      <th>Designation</th>\n",
       "      <th>Grade</th>\n",
       "      <th>Attrition</th>\n",
       "      <th>Location</th>\n",
       "      <th>In Active Date</th>\n",
       "      <th>Tenure</th>\n",
       "      <th>Gender</th>\n",
       "      <th>Education</th>\n",
       "      <th>Age</th>\n",
       "      <th>Last Rating</th>\n",
       "      <th>Monthly Income</th>\n",
       "      <th>Engagement Score (% Satisfaction)</th>\n",
       "      <th>Marital Status</th>\n",
       "      <th>Zone</th>\n",
       "      <th>Remarks</th>\n",
       "    </tr>\n",
       "  </thead>\n",
       "  <tbody>\n",
       "    <tr>\n",
       "      <td>0</td>\n",
       "      <td>False</td>\n",
       "      <td>False</td>\n",
       "      <td>False</td>\n",
       "      <td>False</td>\n",
       "      <td>False</td>\n",
       "      <td>False</td>\n",
       "      <td>False</td>\n",
       "      <td>False</td>\n",
       "      <td>False</td>\n",
       "      <td>False</td>\n",
       "      <td>False</td>\n",
       "      <td>False</td>\n",
       "      <td>False</td>\n",
       "      <td>False</td>\n",
       "      <td>False</td>\n",
       "      <td>False</td>\n",
       "      <td>False</td>\n",
       "      <td>False</td>\n",
       "      <td>False</td>\n",
       "    </tr>\n",
       "    <tr>\n",
       "      <td>1</td>\n",
       "      <td>False</td>\n",
       "      <td>False</td>\n",
       "      <td>False</td>\n",
       "      <td>False</td>\n",
       "      <td>False</td>\n",
       "      <td>False</td>\n",
       "      <td>False</td>\n",
       "      <td>False</td>\n",
       "      <td>False</td>\n",
       "      <td>False</td>\n",
       "      <td>False</td>\n",
       "      <td>False</td>\n",
       "      <td>False</td>\n",
       "      <td>False</td>\n",
       "      <td>False</td>\n",
       "      <td>False</td>\n",
       "      <td>False</td>\n",
       "      <td>False</td>\n",
       "      <td>False</td>\n",
       "    </tr>\n",
       "    <tr>\n",
       "      <td>2</td>\n",
       "      <td>False</td>\n",
       "      <td>False</td>\n",
       "      <td>False</td>\n",
       "      <td>False</td>\n",
       "      <td>False</td>\n",
       "      <td>False</td>\n",
       "      <td>False</td>\n",
       "      <td>False</td>\n",
       "      <td>False</td>\n",
       "      <td>False</td>\n",
       "      <td>False</td>\n",
       "      <td>False</td>\n",
       "      <td>False</td>\n",
       "      <td>False</td>\n",
       "      <td>False</td>\n",
       "      <td>False</td>\n",
       "      <td>False</td>\n",
       "      <td>False</td>\n",
       "      <td>False</td>\n",
       "    </tr>\n",
       "    <tr>\n",
       "      <td>3</td>\n",
       "      <td>False</td>\n",
       "      <td>False</td>\n",
       "      <td>False</td>\n",
       "      <td>False</td>\n",
       "      <td>False</td>\n",
       "      <td>False</td>\n",
       "      <td>False</td>\n",
       "      <td>False</td>\n",
       "      <td>False</td>\n",
       "      <td>False</td>\n",
       "      <td>False</td>\n",
       "      <td>False</td>\n",
       "      <td>False</td>\n",
       "      <td>False</td>\n",
       "      <td>False</td>\n",
       "      <td>False</td>\n",
       "      <td>False</td>\n",
       "      <td>False</td>\n",
       "      <td>False</td>\n",
       "    </tr>\n",
       "    <tr>\n",
       "      <td>4</td>\n",
       "      <td>False</td>\n",
       "      <td>False</td>\n",
       "      <td>False</td>\n",
       "      <td>False</td>\n",
       "      <td>False</td>\n",
       "      <td>False</td>\n",
       "      <td>False</td>\n",
       "      <td>False</td>\n",
       "      <td>False</td>\n",
       "      <td>False</td>\n",
       "      <td>False</td>\n",
       "      <td>False</td>\n",
       "      <td>False</td>\n",
       "      <td>False</td>\n",
       "      <td>False</td>\n",
       "      <td>False</td>\n",
       "      <td>False</td>\n",
       "      <td>False</td>\n",
       "      <td>False</td>\n",
       "    </tr>\n",
       "    <tr>\n",
       "      <td>...</td>\n",
       "      <td>...</td>\n",
       "      <td>...</td>\n",
       "      <td>...</td>\n",
       "      <td>...</td>\n",
       "      <td>...</td>\n",
       "      <td>...</td>\n",
       "      <td>...</td>\n",
       "      <td>...</td>\n",
       "      <td>...</td>\n",
       "      <td>...</td>\n",
       "      <td>...</td>\n",
       "      <td>...</td>\n",
       "      <td>...</td>\n",
       "      <td>...</td>\n",
       "      <td>...</td>\n",
       "      <td>...</td>\n",
       "      <td>...</td>\n",
       "      <td>...</td>\n",
       "      <td>...</td>\n",
       "    </tr>\n",
       "    <tr>\n",
       "      <td>322</td>\n",
       "      <td>False</td>\n",
       "      <td>False</td>\n",
       "      <td>False</td>\n",
       "      <td>False</td>\n",
       "      <td>False</td>\n",
       "      <td>False</td>\n",
       "      <td>False</td>\n",
       "      <td>False</td>\n",
       "      <td>False</td>\n",
       "      <td>False</td>\n",
       "      <td>False</td>\n",
       "      <td>False</td>\n",
       "      <td>False</td>\n",
       "      <td>False</td>\n",
       "      <td>False</td>\n",
       "      <td>False</td>\n",
       "      <td>False</td>\n",
       "      <td>False</td>\n",
       "      <td>False</td>\n",
       "    </tr>\n",
       "    <tr>\n",
       "      <td>323</td>\n",
       "      <td>False</td>\n",
       "      <td>False</td>\n",
       "      <td>False</td>\n",
       "      <td>False</td>\n",
       "      <td>False</td>\n",
       "      <td>False</td>\n",
       "      <td>False</td>\n",
       "      <td>False</td>\n",
       "      <td>False</td>\n",
       "      <td>False</td>\n",
       "      <td>False</td>\n",
       "      <td>False</td>\n",
       "      <td>False</td>\n",
       "      <td>False</td>\n",
       "      <td>False</td>\n",
       "      <td>False</td>\n",
       "      <td>False</td>\n",
       "      <td>False</td>\n",
       "      <td>False</td>\n",
       "    </tr>\n",
       "    <tr>\n",
       "      <td>324</td>\n",
       "      <td>False</td>\n",
       "      <td>False</td>\n",
       "      <td>False</td>\n",
       "      <td>False</td>\n",
       "      <td>False</td>\n",
       "      <td>False</td>\n",
       "      <td>False</td>\n",
       "      <td>False</td>\n",
       "      <td>False</td>\n",
       "      <td>False</td>\n",
       "      <td>False</td>\n",
       "      <td>False</td>\n",
       "      <td>False</td>\n",
       "      <td>False</td>\n",
       "      <td>False</td>\n",
       "      <td>False</td>\n",
       "      <td>False</td>\n",
       "      <td>False</td>\n",
       "      <td>False</td>\n",
       "    </tr>\n",
       "    <tr>\n",
       "      <td>325</td>\n",
       "      <td>False</td>\n",
       "      <td>False</td>\n",
       "      <td>False</td>\n",
       "      <td>False</td>\n",
       "      <td>False</td>\n",
       "      <td>False</td>\n",
       "      <td>False</td>\n",
       "      <td>False</td>\n",
       "      <td>False</td>\n",
       "      <td>False</td>\n",
       "      <td>False</td>\n",
       "      <td>False</td>\n",
       "      <td>False</td>\n",
       "      <td>False</td>\n",
       "      <td>False</td>\n",
       "      <td>False</td>\n",
       "      <td>False</td>\n",
       "      <td>False</td>\n",
       "      <td>False</td>\n",
       "    </tr>\n",
       "    <tr>\n",
       "      <td>326</td>\n",
       "      <td>False</td>\n",
       "      <td>False</td>\n",
       "      <td>False</td>\n",
       "      <td>False</td>\n",
       "      <td>False</td>\n",
       "      <td>False</td>\n",
       "      <td>False</td>\n",
       "      <td>False</td>\n",
       "      <td>False</td>\n",
       "      <td>False</td>\n",
       "      <td>False</td>\n",
       "      <td>False</td>\n",
       "      <td>False</td>\n",
       "      <td>False</td>\n",
       "      <td>False</td>\n",
       "      <td>False</td>\n",
       "      <td>False</td>\n",
       "      <td>False</td>\n",
       "      <td>False</td>\n",
       "    </tr>\n",
       "  </tbody>\n",
       "</table>\n",
       "<p>327 rows × 19 columns</p>\n",
       "</div>"
      ],
      "text/plain": [
       "      S.No  EmpID  Emp Name    DOJ  Designation  Grade  Attrition   Location  \\\n",
       "0    False  False     False  False        False  False       False     False   \n",
       "1    False  False     False  False        False  False       False     False   \n",
       "2    False  False     False  False        False  False       False     False   \n",
       "3    False  False     False  False        False  False       False     False   \n",
       "4    False  False     False  False        False  False       False     False   \n",
       "..     ...    ...       ...    ...          ...    ...         ...       ...   \n",
       "322  False  False     False  False        False  False       False     False   \n",
       "323  False  False     False  False        False  False       False     False   \n",
       "324  False  False     False  False        False  False       False     False   \n",
       "325  False  False     False  False        False  False       False     False   \n",
       "326  False  False     False  False        False  False       False     False   \n",
       "\n",
       "     In Active Date  Tenure  Gender  Education    Age  Last Rating  \\\n",
       "0             False   False   False      False  False        False   \n",
       "1             False   False   False      False  False        False   \n",
       "2             False   False   False      False  False        False   \n",
       "3             False   False   False      False  False        False   \n",
       "4             False   False   False      False  False        False   \n",
       "..              ...     ...     ...        ...    ...          ...   \n",
       "322           False   False   False      False  False        False   \n",
       "323           False   False   False      False  False        False   \n",
       "324           False   False   False      False  False        False   \n",
       "325           False   False   False      False  False        False   \n",
       "326           False   False   False      False  False        False   \n",
       "\n",
       "     Monthly Income  Engagement Score (% Satisfaction)  Marital Status   Zone  \\\n",
       "0             False                              False           False  False   \n",
       "1             False                              False           False  False   \n",
       "2             False                              False           False  False   \n",
       "3             False                              False           False  False   \n",
       "4             False                              False           False  False   \n",
       "..              ...                                ...             ...    ...   \n",
       "322           False                              False           False  False   \n",
       "323           False                              False           False  False   \n",
       "324           False                              False           False  False   \n",
       "325           False                              False           False  False   \n",
       "326           False                              False           False  False   \n",
       "\n",
       "     Remarks  \n",
       "0      False  \n",
       "1      False  \n",
       "2      False  \n",
       "3      False  \n",
       "4      False  \n",
       "..       ...  \n",
       "322    False  \n",
       "323    False  \n",
       "324    False  \n",
       "325    False  \n",
       "326    False  \n",
       "\n",
       "[327 rows x 19 columns]"
      ]
     },
     "execution_count": 8,
     "metadata": {},
     "output_type": "execute_result"
    }
   ],
   "source": [
    "bool_series = pd.isnull(df)\n",
    "bool_series"
   ]
  },
  {
   "cell_type": "code",
   "execution_count": 9,
   "metadata": {},
   "outputs": [
    {
     "name": "stdout",
     "output_type": "stream",
     "text": [
      "<class 'pandas.core.frame.DataFrame'>\n",
      "RangeIndex: 327 entries, 0 to 326\n",
      "Data columns (total 19 columns):\n",
      "S.No                                 327 non-null int64\n",
      "EmpID                                327 non-null object\n",
      "Emp Name                             327 non-null object\n",
      "DOJ                                  327 non-null object\n",
      "Designation                          327 non-null object\n",
      "Grade                                327 non-null object\n",
      "Attrition                            327 non-null object\n",
      "Location                             325 non-null object\n",
      "In Active Date                       327 non-null object\n",
      "Tenure                               327 non-null object\n",
      "Gender                               327 non-null object\n",
      "Education                            327 non-null object\n",
      "Age                                  327 non-null int64\n",
      "Last Rating                          327 non-null int64\n",
      "Monthly Income                       327 non-null int64\n",
      "Engagement Score (% Satisfaction)    327 non-null object\n",
      "Marital Status                       327 non-null object\n",
      "Zone                                 327 non-null object\n",
      "Remarks                              327 non-null object\n",
      "dtypes: int64(4), object(15)\n",
      "memory usage: 48.7+ KB\n"
     ]
    }
   ],
   "source": [
    "df.info()"
   ]
  },
  {
   "cell_type": "code",
   "execution_count": 10,
   "metadata": {},
   "outputs": [],
   "source": [
    "#df.drop()"
   ]
  },
  {
   "cell_type": "code",
   "execution_count": 11,
   "metadata": {},
   "outputs": [],
   "source": [
    "df = df.drop('DOJ' , axis = 1)\n"
   ]
  },
  {
   "cell_type": "code",
   "execution_count": 12,
   "metadata": {},
   "outputs": [],
   "source": [
    "df = df.drop('In Active Date',axis =1 )\n"
   ]
  },
  {
   "cell_type": "code",
   "execution_count": 13,
   "metadata": {},
   "outputs": [],
   "source": [
    "df = df.drop('EmpID',axis = 1)"
   ]
  },
  {
   "cell_type": "code",
   "execution_count": 14,
   "metadata": {},
   "outputs": [],
   "source": [
    "df = df.drop('Emp Name',axis = 1)"
   ]
  },
  {
   "cell_type": "code",
   "execution_count": null,
   "metadata": {},
   "outputs": [],
   "source": []
  },
  {
   "cell_type": "code",
   "execution_count": 15,
   "metadata": {},
   "outputs": [],
   "source": [
    "#Now the data can be made categorical"
   ]
  },
  {
   "cell_type": "code",
   "execution_count": 16,
   "metadata": {},
   "outputs": [
    {
     "data": {
      "text/plain": [
       "Sales Executive               187\n",
       "Sales Executive                40\n",
       "Technical Services Officer     27\n",
       "Sr Sales Executive             23\n",
       "AM - Sales                     22\n",
       "Sr Sales Executive             11\n",
       " Sales Executive                8\n",
       "Regional Manager                5\n",
       "Zonal Manager                   3\n",
       "National Sales Head             1\n",
       "Name: Designation, dtype: int64"
      ]
     },
     "execution_count": 16,
     "metadata": {},
     "output_type": "execute_result"
    }
   ],
   "source": [
    "df['Designation'].value_counts()"
   ]
  },
  {
   "cell_type": "code",
   "execution_count": 17,
   "metadata": {},
   "outputs": [
    {
     "data": {
      "text/plain": [
       "Issues with the Manager                           145\n",
       "Lack of Growth                                     96\n",
       "More Challenging Job Roles/ Higher designation     31\n",
       "Better Salary                                      19\n",
       "Termination - Poor Performance                     13\n",
       "Absconding                                          8\n",
       "Termination - Theft                                 6\n",
       "Health Reasons                                      4\n",
       "Higher education                                    3\n",
       "Reasons not known                                   2\n",
       "Name: Remarks, dtype: int64"
      ]
     },
     "execution_count": 17,
     "metadata": {},
     "output_type": "execute_result"
    }
   ],
   "source": [
    "df['Grade'].value_counts()\n",
    "df['Location'].value_counts()\n",
    "df['Education'].value_counts()\n",
    "df['Marital Status'].value_counts()\n",
    "df['Remarks'].value_counts()"
   ]
  },
  {
   "cell_type": "code",
   "execution_count": 18,
   "metadata": {},
   "outputs": [
    {
     "data": {
      "text/plain": [
       "Trivandrum          18\n",
       "HO Hyderabad        10\n",
       "Vijaywada            9\n",
       "Rajamundry           9\n",
       "Vizag                9\n",
       "                    ..\n",
       "Jagatpur             1\n",
       "Balasore             1\n",
       "Admin Jharkhand      1\n",
       "Admin Maharastra     1\n",
       "Trissur              1\n",
       "Name: Location, Length: 140, dtype: int64"
      ]
     },
     "execution_count": 18,
     "metadata": {},
     "output_type": "execute_result"
    }
   ],
   "source": [
    "df['Location'].value_counts()\n",
    "#Too many categories , data not helpful"
   ]
  },
  {
   "cell_type": "code",
   "execution_count": null,
   "metadata": {
    "scrolled": false
   },
   "outputs": [],
   "source": []
  },
  {
   "cell_type": "code",
   "execution_count": 19,
   "metadata": {},
   "outputs": [
    {
     "data": {
      "text/plain": [
       "South      98\n",
       "North      70\n",
       "East       58\n",
       "West       51\n",
       "CENTRAL    19\n",
       "HO         17\n",
       "Central    10\n",
       "SOUTH       2\n",
       "NORTH       2\n",
       "Name: Zone, dtype: int64"
      ]
     },
     "execution_count": 19,
     "metadata": {},
     "output_type": "execute_result"
    }
   ],
   "source": [
    "df['Zone'].value_counts()\n"
   ]
  },
  {
   "cell_type": "code",
   "execution_count": 20,
   "metadata": {},
   "outputs": [],
   "source": [
    "#Make data uppercase\n",
    "df['Zone'] = df['Zone'].str.upper() \n"
   ]
  },
  {
   "cell_type": "code",
   "execution_count": 21,
   "metadata": {},
   "outputs": [],
   "source": [
    "df = df.drop('Location', axis = 1)"
   ]
  },
  {
   "cell_type": "code",
   "execution_count": 22,
   "metadata": {},
   "outputs": [
    {
     "data": {
      "text/plain": [
       "(array([187.,  27.,  22.,  40.,  23.,  11.,   8.,   5.,   3.,   1.]),\n",
       " array([0. , 0.9, 1.8, 2.7, 3.6, 4.5, 5.4, 6.3, 7.2, 8.1, 9. ]),\n",
       " <a list of 10 Patch objects>)"
      ]
     },
     "execution_count": 22,
     "metadata": {},
     "output_type": "execute_result"
    },
    {
     "data": {
      "image/png": "[encoded data removed]",
      "text/plain": [
       "<Figure size 1152x1296 with 1 Axes>"
      ]
     },
     "metadata": {
      "needs_background": "light"
     },
     "output_type": "display_data"
    }
   ],
   "source": [
    "fig=plt.figure(figsize=(16,18))\n",
    "ax = fig.add_subplot(1,1,1)\n",
    "\n",
    "ax.hist(df['Designation'])"
   ]
  },
  {
   "cell_type": "code",
   "execution_count": 23,
   "metadata": {},
   "outputs": [
    {
     "data": {
      "text/plain": [
       "(array([235.,  27.,   0.,  22.,   0.,  34.,   5.,   0.,   3.,   1.]),\n",
       " array([0. , 0.6, 1.2, 1.8, 2.4, 3. , 3.6, 4.2, 4.8, 5.4, 6. ]),\n",
       " <a list of 10 Patch objects>)"
      ]
     },
     "execution_count": 23,
     "metadata": {},
     "output_type": "execute_result"
    },
    {
     "data": {
      "image/png": "[encoded data removed]",
      "text/plain": [
       "<Figure size 1152x1296 with 1 Axes>"
      ]
     },
     "metadata": {
      "needs_background": "light"
     },
     "output_type": "display_data"
    }
   ],
   "source": [
    "fig=plt.figure(figsize=(16,18))\n",
    "ax = fig.add_subplot(1,1,1)\n",
    "\n",
    "ax.hist(df['Grade'])"
   ]
  },
  {
   "cell_type": "code",
   "execution_count": 24,
   "metadata": {},
   "outputs": [
    {
     "data": {
      "text/plain": [
       "(array([135., 114.,  17.,  24.,  14.,  13.,   5.,   4.,   0.,   1.]),\n",
       " array([24., 27., 30., 33., 36., 39., 42., 45., 48., 51., 54.]),\n",
       " <a list of 10 Patch objects>)"
      ]
     },
     "execution_count": 24,
     "metadata": {},
     "output_type": "execute_result"
    },
    {
     "data": {
      "image/png": "[encoded data removed]",
      "text/plain": [
       "<Figure size 1152x1296 with 1 Axes>"
      ]
     },
     "metadata": {
      "needs_background": "light"
     },
     "output_type": "display_data"
    }
   ],
   "source": [
    "fig=plt.figure(figsize=(16,18))\n",
    "ax = fig.add_subplot(1,1,1)\n",
    "\n",
    "ax.hist(df['Age'])"
   ]
  },
  {
   "cell_type": "code",
   "execution_count": 25,
   "metadata": {},
   "outputs": [
    {
     "data": {
      "text/html": [
       "<div>\n",
       "<style scoped>\n",
       "    .dataframe tbody tr th:only-of-type {\n",
       "        vertical-align: middle;\n",
       "    }\n",
       "\n",
       "    .dataframe tbody tr th {\n",
       "        vertical-align: top;\n",
       "    }\n",
       "\n",
       "    .dataframe thead th {\n",
       "        text-align: right;\n",
       "    }\n",
       "</style>\n",
       "<table border=\"1\" class=\"dataframe\">\n",
       "  <thead>\n",
       "    <tr style=\"text-align: right;\">\n",
       "      <th></th>\n",
       "      <th>S.No</th>\n",
       "      <th>Designation</th>\n",
       "      <th>Grade</th>\n",
       "      <th>Attrition</th>\n",
       "      <th>Tenure</th>\n",
       "      <th>Gender</th>\n",
       "      <th>Education</th>\n",
       "      <th>Age</th>\n",
       "      <th>Last Rating</th>\n",
       "      <th>Monthly Income</th>\n",
       "      <th>Engagement Score (% Satisfaction)</th>\n",
       "      <th>Marital Status</th>\n",
       "      <th>Zone</th>\n",
       "      <th>Remarks</th>\n",
       "    </tr>\n",
       "  </thead>\n",
       "  <tbody>\n",
       "    <tr>\n",
       "      <td>0</td>\n",
       "      <td>1</td>\n",
       "      <td>Sales Executive</td>\n",
       "      <td>E1</td>\n",
       "      <td>Yes</td>\n",
       "      <td>1. 6</td>\n",
       "      <td>Female</td>\n",
       "      <td>Bachelors</td>\n",
       "      <td>27</td>\n",
       "      <td>4</td>\n",
       "      <td>25535</td>\n",
       "      <td>2%</td>\n",
       "      <td>Divorced</td>\n",
       "      <td>WEST</td>\n",
       "      <td>Issues with the Manager</td>\n",
       "    </tr>\n",
       "    <tr>\n",
       "      <td>1</td>\n",
       "      <td>2</td>\n",
       "      <td>Technical Services Officer</td>\n",
       "      <td>M2</td>\n",
       "      <td>Yes</td>\n",
       "      <td>1. 9</td>\n",
       "      <td>Male</td>\n",
       "      <td>MBA</td>\n",
       "      <td>36</td>\n",
       "      <td>2</td>\n",
       "      <td>52155</td>\n",
       "      <td>45%</td>\n",
       "      <td>Single</td>\n",
       "      <td>SOUTH</td>\n",
       "      <td>More Challenging Job Roles/ Higher designation</td>\n",
       "    </tr>\n",
       "    <tr>\n",
       "      <td>2</td>\n",
       "      <td>3</td>\n",
       "      <td>Sales Executive</td>\n",
       "      <td>E1</td>\n",
       "      <td>Yes</td>\n",
       "      <td>1. 5</td>\n",
       "      <td>Male</td>\n",
       "      <td>Bachelors</td>\n",
       "      <td>24</td>\n",
       "      <td>4</td>\n",
       "      <td>26438</td>\n",
       "      <td>18%</td>\n",
       "      <td>Divorced</td>\n",
       "      <td>CENTRAL</td>\n",
       "      <td>Issues with the Manager</td>\n",
       "    </tr>\n",
       "    <tr>\n",
       "      <td>3</td>\n",
       "      <td>4</td>\n",
       "      <td>AM - Sales</td>\n",
       "      <td>M1</td>\n",
       "      <td>Yes</td>\n",
       "      <td>3 .11</td>\n",
       "      <td>Male</td>\n",
       "      <td>Bachelors</td>\n",
       "      <td>33</td>\n",
       "      <td>2</td>\n",
       "      <td>54311</td>\n",
       "      <td>82%</td>\n",
       "      <td>Single</td>\n",
       "      <td>WEST</td>\n",
       "      <td>Lack of Growth</td>\n",
       "    </tr>\n",
       "    <tr>\n",
       "      <td>4</td>\n",
       "      <td>5</td>\n",
       "      <td>Sales Executive</td>\n",
       "      <td>E1</td>\n",
       "      <td>Yes</td>\n",
       "      <td>2 .1</td>\n",
       "      <td>Male</td>\n",
       "      <td>Bachelors</td>\n",
       "      <td>24</td>\n",
       "      <td>4</td>\n",
       "      <td>26702</td>\n",
       "      <td>49%</td>\n",
       "      <td>Divorced</td>\n",
       "      <td>NORTH</td>\n",
       "      <td>Issues with the Manager</td>\n",
       "    </tr>\n",
       "  </tbody>\n",
       "</table>\n",
       "</div>"
      ],
      "text/plain": [
       "   S.No                 Designation Grade Attrition   Tenure  Gender  \\\n",
       "0     1             Sales Executive    E1        Yes   1. 6   Female   \n",
       "1     2  Technical Services Officer    M2        Yes   1. 9     Male   \n",
       "2     3             Sales Executive    E1        Yes   1. 5     Male   \n",
       "3     4                  AM - Sales    M1        Yes  3 .11     Male   \n",
       "4     5            Sales Executive     E1        Yes   2 .1     Male   \n",
       "\n",
       "   Education  Age  Last Rating  Monthly Income  \\\n",
       "0  Bachelors   27            4           25535   \n",
       "1        MBA   36            2           52155   \n",
       "2  Bachelors   24            4           26438   \n",
       "3  Bachelors   33            2           54311   \n",
       "4  Bachelors   24            4           26702   \n",
       "\n",
       "  Engagement Score (% Satisfaction) Marital Status     Zone  \\\n",
       "0                                2%       Divorced     WEST   \n",
       "1                               45%        Single     SOUTH   \n",
       "2                               18%       Divorced  CENTRAL   \n",
       "3                               82%        Single      WEST   \n",
       "4                               49%       Divorced    NORTH   \n",
       "\n",
       "                                          Remarks  \n",
       "0                         Issues with the Manager  \n",
       "1  More Challenging Job Roles/ Higher designation  \n",
       "2                         Issues with the Manager  \n",
       "3                                  Lack of Growth  \n",
       "4                         Issues with the Manager  "
      ]
     },
     "execution_count": 25,
     "metadata": {},
     "output_type": "execute_result"
    }
   ],
   "source": [
    "df.head()"
   ]
  },
  {
   "cell_type": "code",
   "execution_count": 26,
   "metadata": {},
   "outputs": [
    {
     "data": {
      "text/plain": [
       "<matplotlib.axes._subplots.AxesSubplot at 0x1b2ec97ed08>"
      ]
     },
     "execution_count": 26,
     "metadata": {},
     "output_type": "execute_result"
    },
    {
     "data": {
      "image/png": "[encoded data removed]",
      "text/plain": [
       "<Figure size 432x288 with 1 Axes>"
      ]
     },
     "metadata": {
      "needs_background": "light"
     },
     "output_type": "display_data"
    }
   ],
   "source": [
    "sns.distplot(df['Age'])"
   ]
  },
  {
   "cell_type": "code",
   "execution_count": 27,
   "metadata": {},
   "outputs": [
    {
     "data": {
      "text/plain": [
       "(array([ 18.,   0.,   0.,   0.,   0.,   0.,   0.,   0.,   0., 309.]),\n",
       " array([0. , 0.1, 0.2, 0.3, 0.4, 0.5, 0.6, 0.7, 0.8, 0.9, 1. ]),\n",
       " <a list of 10 Patch objects>)"
      ]
     },
     "execution_count": 27,
     "metadata": {},
     "output_type": "execute_result"
    },
    {
     "data": {
      "image/png": "[encoded data removed]",
      "text/plain": [
       "<Figure size 432x288 with 1 Axes>"
      ]
     },
     "metadata": {
      "needs_background": "light"
     },
     "output_type": "display_data"
    }
   ],
   "source": [
    "plt.hist( df['Gender']) \n"
   ]
  },
  {
   "cell_type": "code",
   "execution_count": 28,
   "metadata": {},
   "outputs": [
    {
     "data": {
      "text/plain": [
       "<matplotlib.axes._subplots.AxesSubplot at 0x1b2ecf117c8>"
      ]
     },
     "execution_count": 28,
     "metadata": {},
     "output_type": "execute_result"
    },
    {
     "data": {
      "image/png": "[encoded data removed]",
      "text/plain": [
       "<Figure size 432x288 with 1 Axes>"
      ]
     },
     "metadata": {
      "needs_background": "light"
     },
     "output_type": "display_data"
    }
   ],
   "source": [
    "sns.violinplot(df['Age'], df['Gender']) #Variable Plot\n"
   ]
  },
  {
   "cell_type": "code",
   "execution_count": 29,
   "metadata": {},
   "outputs": [
    {
     "data": {
      "text/plain": [
       "<matplotlib.axes._subplots.AxesSubplot at 0x1b2ecfa4bc8>"
      ]
     },
     "execution_count": 29,
     "metadata": {},
     "output_type": "execute_result"
    },
    {
     "data": {
      "image/png": "[encoded data removed]",
      "text/plain": [
       "<Figure size 432x288 with 1 Axes>"
      ]
     },
     "metadata": {
      "needs_background": "light"
     },
     "output_type": "display_data"
    }
   ],
   "source": [
    "sns.boxplot(df['Age'])"
   ]
  },
  {
   "cell_type": "code",
   "execution_count": 30,
   "metadata": {},
   "outputs": [
    {
     "data": {
      "text/plain": [
       "<matplotlib.axes._subplots.AxesSubplot at 0x1b2ed0099c8>"
      ]
     },
     "execution_count": 30,
     "metadata": {},
     "output_type": "execute_result"
    },
    {
     "data": {
      "image/png": "[encoded data removed]",
      "text/plain": [
       "<Figure size 432x288 with 1 Axes>"
      ]
     },
     "metadata": {
      "needs_background": "light"
     },
     "output_type": "display_data"
    }
   ],
   "source": [
    "sns.boxplot(df['Age'], df['Gender' ])"
   ]
  },
  {
   "cell_type": "code",
   "execution_count": 31,
   "metadata": {
    "scrolled": true
   },
   "outputs": [
    {
     "data": {
      "text/html": [
       "<div>\n",
       "<style scoped>\n",
       "    .dataframe tbody tr th:only-of-type {\n",
       "        vertical-align: middle;\n",
       "    }\n",
       "\n",
       "    .dataframe tbody tr th {\n",
       "        vertical-align: top;\n",
       "    }\n",
       "\n",
       "    .dataframe thead th {\n",
       "        text-align: right;\n",
       "    }\n",
       "</style>\n",
       "<table border=\"1\" class=\"dataframe\">\n",
       "  <thead>\n",
       "    <tr style=\"text-align: right;\">\n",
       "      <th></th>\n",
       "      <th>S.No</th>\n",
       "      <th>Designation</th>\n",
       "      <th>Grade</th>\n",
       "      <th>Attrition</th>\n",
       "      <th>Tenure</th>\n",
       "      <th>Gender</th>\n",
       "      <th>Education</th>\n",
       "      <th>Age</th>\n",
       "      <th>Last Rating</th>\n",
       "      <th>Monthly Income</th>\n",
       "      <th>Engagement Score (% Satisfaction)</th>\n",
       "      <th>Marital Status</th>\n",
       "      <th>Zone</th>\n",
       "      <th>Remarks</th>\n",
       "    </tr>\n",
       "  </thead>\n",
       "  <tbody>\n",
       "    <tr>\n",
       "      <td>0</td>\n",
       "      <td>1</td>\n",
       "      <td>Sales Executive</td>\n",
       "      <td>E1</td>\n",
       "      <td>Yes</td>\n",
       "      <td>1. 6</td>\n",
       "      <td>Female</td>\n",
       "      <td>Bachelors</td>\n",
       "      <td>27</td>\n",
       "      <td>4</td>\n",
       "      <td>25535</td>\n",
       "      <td>2%</td>\n",
       "      <td>Divorced</td>\n",
       "      <td>WEST</td>\n",
       "      <td>Issues with the Manager</td>\n",
       "    </tr>\n",
       "    <tr>\n",
       "      <td>1</td>\n",
       "      <td>2</td>\n",
       "      <td>Technical Services Officer</td>\n",
       "      <td>M2</td>\n",
       "      <td>Yes</td>\n",
       "      <td>1. 9</td>\n",
       "      <td>Male</td>\n",
       "      <td>MBA</td>\n",
       "      <td>36</td>\n",
       "      <td>2</td>\n",
       "      <td>52155</td>\n",
       "      <td>45%</td>\n",
       "      <td>Single</td>\n",
       "      <td>SOUTH</td>\n",
       "      <td>More Challenging Job Roles/ Higher designation</td>\n",
       "    </tr>\n",
       "    <tr>\n",
       "      <td>2</td>\n",
       "      <td>3</td>\n",
       "      <td>Sales Executive</td>\n",
       "      <td>E1</td>\n",
       "      <td>Yes</td>\n",
       "      <td>1. 5</td>\n",
       "      <td>Male</td>\n",
       "      <td>Bachelors</td>\n",
       "      <td>24</td>\n",
       "      <td>4</td>\n",
       "      <td>26438</td>\n",
       "      <td>18%</td>\n",
       "      <td>Divorced</td>\n",
       "      <td>CENTRAL</td>\n",
       "      <td>Issues with the Manager</td>\n",
       "    </tr>\n",
       "    <tr>\n",
       "      <td>3</td>\n",
       "      <td>4</td>\n",
       "      <td>AM - Sales</td>\n",
       "      <td>M1</td>\n",
       "      <td>Yes</td>\n",
       "      <td>3 .11</td>\n",
       "      <td>Male</td>\n",
       "      <td>Bachelors</td>\n",
       "      <td>33</td>\n",
       "      <td>2</td>\n",
       "      <td>54311</td>\n",
       "      <td>82%</td>\n",
       "      <td>Single</td>\n",
       "      <td>WEST</td>\n",
       "      <td>Lack of Growth</td>\n",
       "    </tr>\n",
       "    <tr>\n",
       "      <td>4</td>\n",
       "      <td>5</td>\n",
       "      <td>Sales Executive</td>\n",
       "      <td>E1</td>\n",
       "      <td>Yes</td>\n",
       "      <td>2 .1</td>\n",
       "      <td>Male</td>\n",
       "      <td>Bachelors</td>\n",
       "      <td>24</td>\n",
       "      <td>4</td>\n",
       "      <td>26702</td>\n",
       "      <td>49%</td>\n",
       "      <td>Divorced</td>\n",
       "      <td>NORTH</td>\n",
       "      <td>Issues with the Manager</td>\n",
       "    </tr>\n",
       "    <tr>\n",
       "      <td>...</td>\n",
       "      <td>...</td>\n",
       "      <td>...</td>\n",
       "      <td>...</td>\n",
       "      <td>...</td>\n",
       "      <td>...</td>\n",
       "      <td>...</td>\n",
       "      <td>...</td>\n",
       "      <td>...</td>\n",
       "      <td>...</td>\n",
       "      <td>...</td>\n",
       "      <td>...</td>\n",
       "      <td>...</td>\n",
       "      <td>...</td>\n",
       "      <td>...</td>\n",
       "    </tr>\n",
       "    <tr>\n",
       "      <td>322</td>\n",
       "      <td>323</td>\n",
       "      <td>AM - Sales</td>\n",
       "      <td>M1</td>\n",
       "      <td>Yes</td>\n",
       "      <td>4 .9</td>\n",
       "      <td>Male</td>\n",
       "      <td>Bachelors</td>\n",
       "      <td>37</td>\n",
       "      <td>2</td>\n",
       "      <td>53841</td>\n",
       "      <td>69%</td>\n",
       "      <td>Divorced</td>\n",
       "      <td>SOUTH</td>\n",
       "      <td>Lack of Growth</td>\n",
       "    </tr>\n",
       "    <tr>\n",
       "      <td>323</td>\n",
       "      <td>324</td>\n",
       "      <td>Sales Executive</td>\n",
       "      <td>E1</td>\n",
       "      <td>Yes</td>\n",
       "      <td>0. 5</td>\n",
       "      <td>Male</td>\n",
       "      <td>Bachelors</td>\n",
       "      <td>25</td>\n",
       "      <td>3</td>\n",
       "      <td>25813</td>\n",
       "      <td>11%</td>\n",
       "      <td>Married</td>\n",
       "      <td>SOUTH</td>\n",
       "      <td>Lack of Growth</td>\n",
       "    </tr>\n",
       "    <tr>\n",
       "      <td>324</td>\n",
       "      <td>325</td>\n",
       "      <td>Sr Sales Executive</td>\n",
       "      <td>E2</td>\n",
       "      <td>Yes</td>\n",
       "      <td>7 .3</td>\n",
       "      <td>Male</td>\n",
       "      <td>Bachelors</td>\n",
       "      <td>28</td>\n",
       "      <td>1</td>\n",
       "      <td>36498</td>\n",
       "      <td>11%</td>\n",
       "      <td>Divorced</td>\n",
       "      <td>SOUTH</td>\n",
       "      <td>Lack of Growth</td>\n",
       "    </tr>\n",
       "    <tr>\n",
       "      <td>325</td>\n",
       "      <td>326</td>\n",
       "      <td>AM - Sales</td>\n",
       "      <td>M1</td>\n",
       "      <td>Yes</td>\n",
       "      <td>8 .8</td>\n",
       "      <td>Male</td>\n",
       "      <td>Bachelors</td>\n",
       "      <td>36</td>\n",
       "      <td>3</td>\n",
       "      <td>51796</td>\n",
       "      <td>82%</td>\n",
       "      <td>Divorced</td>\n",
       "      <td>SOUTH</td>\n",
       "      <td>Termination - Poor Performance</td>\n",
       "    </tr>\n",
       "    <tr>\n",
       "      <td>326</td>\n",
       "      <td>327</td>\n",
       "      <td>Sales Executive</td>\n",
       "      <td>E1</td>\n",
       "      <td>Yes</td>\n",
       "      <td>0. 0</td>\n",
       "      <td>Male</td>\n",
       "      <td>Bachelors</td>\n",
       "      <td>27</td>\n",
       "      <td>4</td>\n",
       "      <td>26678</td>\n",
       "      <td>49%</td>\n",
       "      <td>Divorced</td>\n",
       "      <td>EAST</td>\n",
       "      <td>Issues with the Manager</td>\n",
       "    </tr>\n",
       "  </tbody>\n",
       "</table>\n",
       "<p>327 rows × 14 columns</p>\n",
       "</div>"
      ],
      "text/plain": [
       "     S.No                 Designation Grade Attrition   Tenure  Gender  \\\n",
       "0       1             Sales Executive    E1        Yes   1. 6   Female   \n",
       "1       2  Technical Services Officer    M2        Yes   1. 9     Male   \n",
       "2       3             Sales Executive    E1        Yes   1. 5     Male   \n",
       "3       4                  AM - Sales    M1        Yes  3 .11     Male   \n",
       "4       5            Sales Executive     E1        Yes   2 .1     Male   \n",
       "..    ...                         ...   ...        ...     ...     ...   \n",
       "322   323                  AM - Sales    M1        Yes   4 .9     Male   \n",
       "323   324             Sales Executive    E1        Yes   0. 5     Male   \n",
       "324   325          Sr Sales Executive    E2        Yes   7 .3     Male   \n",
       "325   326                  AM - Sales    M1        Yes   8 .8     Male   \n",
       "326   327             Sales Executive    E1        Yes   0. 0     Male   \n",
       "\n",
       "     Education  Age  Last Rating  Monthly Income  \\\n",
       "0    Bachelors   27            4           25535   \n",
       "1          MBA   36            2           52155   \n",
       "2    Bachelors   24            4           26438   \n",
       "3    Bachelors   33            2           54311   \n",
       "4    Bachelors   24            4           26702   \n",
       "..         ...  ...          ...             ...   \n",
       "322  Bachelors   37            2           53841   \n",
       "323  Bachelors   25            3           25813   \n",
       "324  Bachelors   28            1           36498   \n",
       "325  Bachelors   36            3           51796   \n",
       "326  Bachelors   27            4           26678   \n",
       "\n",
       "    Engagement Score (% Satisfaction) Marital Status     Zone  \\\n",
       "0                                  2%       Divorced     WEST   \n",
       "1                                 45%        Single     SOUTH   \n",
       "2                                 18%       Divorced  CENTRAL   \n",
       "3                                 82%        Single      WEST   \n",
       "4                                 49%       Divorced    NORTH   \n",
       "..                                ...            ...      ...   \n",
       "322                               69%       Divorced    SOUTH   \n",
       "323                               11%        Married    SOUTH   \n",
       "324                               11%       Divorced    SOUTH   \n",
       "325                               82%       Divorced    SOUTH   \n",
       "326                               49%       Divorced     EAST   \n",
       "\n",
       "                                            Remarks  \n",
       "0                           Issues with the Manager  \n",
       "1    More Challenging Job Roles/ Higher designation  \n",
       "2                           Issues with the Manager  \n",
       "3                                    Lack of Growth  \n",
       "4                           Issues with the Manager  \n",
       "..                                              ...  \n",
       "322                                  Lack of Growth  \n",
       "323                                  Lack of Growth  \n",
       "324                                  Lack of Growth  \n",
       "325                  Termination - Poor Performance  \n",
       "326                         Issues with the Manager  \n",
       "\n",
       "[327 rows x 14 columns]"
      ]
     },
     "execution_count": 31,
     "metadata": {},
     "output_type": "execute_result"
    }
   ],
   "source": [
    "df\n"
   ]
  },
  {
   "cell_type": "code",
   "execution_count": 32,
   "metadata": {},
   "outputs": [
    {
     "data": {
      "text/plain": [
       "(array([309.,   0.,   0.,   0.,   0.,   0.,   0.,   0.,   0.,  18.]),\n",
       " array([0. , 0.1, 0.2, 0.3, 0.4, 0.5, 0.6, 0.7, 0.8, 0.9, 1. ]),\n",
       " <a list of 10 Patch objects>)"
      ]
     },
     "execution_count": 32,
     "metadata": {},
     "output_type": "execute_result"
    },
    {
     "data": {
      "image/png": "[encoded data removed]",
      "text/plain": [
       "<Figure size 432x288 with 1 Axes>"
      ]
     },
     "metadata": {
      "needs_background": "light"
     },
     "output_type": "display_data"
    }
   ],
   "source": [
    "plt.hist(df['Education'])\n",
    "#Most employees have a Bachelor's degree"
   ]
  },
  {
   "cell_type": "code",
   "execution_count": 33,
   "metadata": {},
   "outputs": [
    {
     "data": {
      "text/plain": [
       "(array([269.,  54.,   2.,   1.,   0.,   0.,   0.,   0.,   0.,   1.]),\n",
       " array([ 25010. ,  45904.4,  66798.8,  87693.2, 108587.6, 129482. ,\n",
       "        150376.4, 171270.8, 192165.2, 213059.6, 233954. ]),\n",
       " <a list of 10 Patch objects>)"
      ]
     },
     "execution_count": 33,
     "metadata": {},
     "output_type": "execute_result"
    },
    {
     "data": {
      "image/png": "[encoded data removed]",
      "text/plain": [
       "<Figure size 432x288 with 1 Axes>"
      ]
     },
     "metadata": {
      "needs_background": "light"
     },
     "output_type": "display_data"
    }
   ],
   "source": [
    "plt.hist(df['Monthly Income'])"
   ]
  },
  {
   "cell_type": "code",
   "execution_count": 37,
   "metadata": {},
   "outputs": [
    {
     "data": {
      "text/plain": [
       "(array([145.,  31.,  96.,  19.,   8.,   6.,   2.,   3.,   4.,  13.]),\n",
       " array([0. , 0.9, 1.8, 2.7, 3.6, 4.5, 5.4, 6.3, 7.2, 8.1, 9. ]),\n",
       " <a list of 10 Patch objects>)"
      ]
     },
     "execution_count": 37,
     "metadata": {},
     "output_type": "execute_result"
    },
    {
     "data": {
      "image/png": "[encoded data removed]",
      "text/plain": [
       "<Figure size 1152x1296 with 1 Axes>"
      ]
     },
     "metadata": {
      "needs_background": "light"
     },
     "output_type": "display_data"
    }
   ],
   "source": [
    "fig=plt.figure(figsize=(16,18))\n",
    "ax = fig.add_subplot(1,1,1)\n",
    "plt.xticks(rotation=90)\n",
    "\n",
    "ax.hist(df['Remarks'])"
   ]
  },
  {
   "cell_type": "code",
   "execution_count": 38,
   "metadata": {},
   "outputs": [
    {
     "data": {
      "text/plain": [
       "(array([118.,   0.,   0.,   0.,   0., 106.,   0.,   0.,   0., 103.]),\n",
       " array([0. , 0.2, 0.4, 0.6, 0.8, 1. , 1.2, 1.4, 1.6, 1.8, 2. ]),\n",
       " <a list of 10 Patch objects>)"
      ]
     },
     "execution_count": 38,
     "metadata": {},
     "output_type": "execute_result"
    },
    {
     "data": {
      "image/png": "[encoded data removed]",
      "text/plain": [
       "<Figure size 1152x1296 with 1 Axes>"
      ]
     },
     "metadata": {
      "needs_background": "light"
     },
     "output_type": "display_data"
    }
   ],
   "source": [
    "fig=plt.figure(figsize=(16,18))\n",
    "ax = fig.add_subplot(1,1,1)\n",
    "plt.xticks(rotation=90)\n",
    "\n",
    "ax.hist(df['Marital Status'])\n",
    "#No, Conclusions can be madebb"
   ]
  },
  {
   "cell_type": "code",
   "execution_count": 39,
   "metadata": {
    "scrolled": true
   },
   "outputs": [
    {
     "data": {
      "text/plain": [
       "(array([ 51.,   0., 100.,   0.,  29.,   0.,  72.,   0.,  58.,  17.]),\n",
       " array([0. , 0.5, 1. , 1.5, 2. , 2.5, 3. , 3.5, 4. , 4.5, 5. ]),\n",
       " <a list of 10 Patch objects>)"
      ]
     },
     "execution_count": 39,
     "metadata": {},
     "output_type": "execute_result"
    },
    {
     "data": {
      "image/png": "[encoded data removed]",
      "text/plain": [
       "<Figure size 1152x1296 with 1 Axes>"
      ]
     },
     "metadata": {
      "needs_background": "light"
     },
     "output_type": "display_data"
    }
   ],
   "source": [
    "fig=plt.figure(figsize=(16,18))\n",
    "ax = fig.add_subplot(1,1,1)\n",
    "plt.xticks(rotation=90)\n",
    "\n",
    "ax.hist(df['Zone'])"
   ]
  },
  {
   "cell_type": "code",
   "execution_count": 40,
   "metadata": {},
   "outputs": [
    {
     "data": {
      "text/html": [
       "<div>\n",
       "<style scoped>\n",
       "    .dataframe tbody tr th:only-of-type {\n",
       "        vertical-align: middle;\n",
       "    }\n",
       "\n",
       "    .dataframe tbody tr th {\n",
       "        vertical-align: top;\n",
       "    }\n",
       "\n",
       "    .dataframe thead th {\n",
       "        text-align: right;\n",
       "    }\n",
       "</style>\n",
       "<table border=\"1\" class=\"dataframe\">\n",
       "  <thead>\n",
       "    <tr style=\"text-align: right;\">\n",
       "      <th></th>\n",
       "      <th>S.No</th>\n",
       "      <th>Designation</th>\n",
       "      <th>Grade</th>\n",
       "      <th>Attrition</th>\n",
       "      <th>Tenure</th>\n",
       "      <th>Gender</th>\n",
       "      <th>Education</th>\n",
       "      <th>Age</th>\n",
       "      <th>Last Rating</th>\n",
       "      <th>Monthly Income</th>\n",
       "      <th>Engagement Score (% Satisfaction)</th>\n",
       "      <th>Marital Status</th>\n",
       "      <th>Zone</th>\n",
       "      <th>Remarks</th>\n",
       "    </tr>\n",
       "  </thead>\n",
       "  <tbody>\n",
       "    <tr>\n",
       "      <td>0</td>\n",
       "      <td>1</td>\n",
       "      <td>Sales Executive</td>\n",
       "      <td>E1</td>\n",
       "      <td>Yes</td>\n",
       "      <td>1. 6</td>\n",
       "      <td>Female</td>\n",
       "      <td>Bachelors</td>\n",
       "      <td>27</td>\n",
       "      <td>4</td>\n",
       "      <td>25535</td>\n",
       "      <td>2%</td>\n",
       "      <td>Divorced</td>\n",
       "      <td>WEST</td>\n",
       "      <td>Issues with the Manager</td>\n",
       "    </tr>\n",
       "    <tr>\n",
       "      <td>1</td>\n",
       "      <td>2</td>\n",
       "      <td>Technical Services Officer</td>\n",
       "      <td>M2</td>\n",
       "      <td>Yes</td>\n",
       "      <td>1. 9</td>\n",
       "      <td>Male</td>\n",
       "      <td>MBA</td>\n",
       "      <td>36</td>\n",
       "      <td>2</td>\n",
       "      <td>52155</td>\n",
       "      <td>45%</td>\n",
       "      <td>Single</td>\n",
       "      <td>SOUTH</td>\n",
       "      <td>More Challenging Job Roles/ Higher designation</td>\n",
       "    </tr>\n",
       "    <tr>\n",
       "      <td>2</td>\n",
       "      <td>3</td>\n",
       "      <td>Sales Executive</td>\n",
       "      <td>E1</td>\n",
       "      <td>Yes</td>\n",
       "      <td>1. 5</td>\n",
       "      <td>Male</td>\n",
       "      <td>Bachelors</td>\n",
       "      <td>24</td>\n",
       "      <td>4</td>\n",
       "      <td>26438</td>\n",
       "      <td>18%</td>\n",
       "      <td>Divorced</td>\n",
       "      <td>CENTRAL</td>\n",
       "      <td>Issues with the Manager</td>\n",
       "    </tr>\n",
       "    <tr>\n",
       "      <td>3</td>\n",
       "      <td>4</td>\n",
       "      <td>AM - Sales</td>\n",
       "      <td>M1</td>\n",
       "      <td>Yes</td>\n",
       "      <td>3 .11</td>\n",
       "      <td>Male</td>\n",
       "      <td>Bachelors</td>\n",
       "      <td>33</td>\n",
       "      <td>2</td>\n",
       "      <td>54311</td>\n",
       "      <td>82%</td>\n",
       "      <td>Single</td>\n",
       "      <td>WEST</td>\n",
       "      <td>Lack of Growth</td>\n",
       "    </tr>\n",
       "    <tr>\n",
       "      <td>4</td>\n",
       "      <td>5</td>\n",
       "      <td>Sales Executive</td>\n",
       "      <td>E1</td>\n",
       "      <td>Yes</td>\n",
       "      <td>2 .1</td>\n",
       "      <td>Male</td>\n",
       "      <td>Bachelors</td>\n",
       "      <td>24</td>\n",
       "      <td>4</td>\n",
       "      <td>26702</td>\n",
       "      <td>49%</td>\n",
       "      <td>Divorced</td>\n",
       "      <td>NORTH</td>\n",
       "      <td>Issues with the Manager</td>\n",
       "    </tr>\n",
       "  </tbody>\n",
       "</table>\n",
       "</div>"
      ],
      "text/plain": [
       "   S.No                 Designation Grade Attrition   Tenure  Gender  \\\n",
       "0     1             Sales Executive    E1        Yes   1. 6   Female   \n",
       "1     2  Technical Services Officer    M2        Yes   1. 9     Male   \n",
       "2     3             Sales Executive    E1        Yes   1. 5     Male   \n",
       "3     4                  AM - Sales    M1        Yes  3 .11     Male   \n",
       "4     5            Sales Executive     E1        Yes   2 .1     Male   \n",
       "\n",
       "   Education  Age  Last Rating  Monthly Income  \\\n",
       "0  Bachelors   27            4           25535   \n",
       "1        MBA   36            2           52155   \n",
       "2  Bachelors   24            4           26438   \n",
       "3  Bachelors   33            2           54311   \n",
       "4  Bachelors   24            4           26702   \n",
       "\n",
       "  Engagement Score (% Satisfaction) Marital Status     Zone  \\\n",
       "0                                2%       Divorced     WEST   \n",
       "1                               45%        Single     SOUTH   \n",
       "2                               18%       Divorced  CENTRAL   \n",
       "3                               82%        Single      WEST   \n",
       "4                               49%       Divorced    NORTH   \n",
       "\n",
       "                                          Remarks  \n",
       "0                         Issues with the Manager  \n",
       "1  More Challenging Job Roles/ Higher designation  \n",
       "2                         Issues with the Manager  \n",
       "3                                  Lack of Growth  \n",
       "4                         Issues with the Manager  "
      ]
     },
     "execution_count": 40,
     "metadata": {},
     "output_type": "execute_result"
    }
   ],
   "source": [
    "df.head()"
   ]
  },
  {
   "cell_type": "code",
   "execution_count": 44,
   "metadata": {},
   "outputs": [
    {
     "data": {
      "text/plain": [
       "(array([ 10.,   0.,  85.,   0.,   0.,  84.,   0., 116.,   0.,  32.]),\n",
       " array([1. , 1.4, 1.8, 2.2, 2.6, 3. , 3.4, 3.8, 4.2, 4.6, 5. ]),\n",
       " <a list of 10 Patch objects>)"
      ]
     },
     "execution_count": 44,
     "metadata": {},
     "output_type": "execute_result"
    },
    {
     "data": {
      "image/png": "[encoded data removed]",
      "text/plain": [
       "<Figure size 432x288 with 1 Axes>"
      ]
     },
     "metadata": {
      "needs_background": "light"
     },
     "output_type": "display_data"
    }
   ],
   "source": [
    "plt.hist(df['Last Rating'])"
   ]
  },
  {
   "cell_type": "code",
   "execution_count": 45,
   "metadata": {},
   "outputs": [
    {
     "data": {
      "text/plain": [
       "0.7970626492923779"
      ]
     },
     "execution_count": 45,
     "metadata": {},
     "output_type": "execute_result"
    }
   ],
   "source": [
    "df['Age'].corr(df['Monthly Income'])"
   ]
  },
  {
   "cell_type": "code",
   "execution_count": 46,
   "metadata": {},
   "outputs": [
    {
     "data": {
      "text/plain": [
       "-0.039689967131220985"
      ]
     },
     "execution_count": 46,
     "metadata": {},
     "output_type": "execute_result"
    }
   ],
   "source": [
    "df['Last Rating'].corr(df['Monthly Income'])"
   ]
  },
  {
   "cell_type": "code",
   "execution_count": 55,
   "metadata": {
    "scrolled": true
   },
   "outputs": [],
   "source": [
    "df['Engagement Score (% Satisfaction)']=df['Engagement Score (% Satisfaction)'].str.rstrip('%').astype('float') / 100.0"
   ]
  },
  {
   "cell_type": "code",
   "execution_count": 56,
   "metadata": {},
   "outputs": [
    {
     "data": {
      "text/html": [
       "<div>\n",
       "<style scoped>\n",
       "    .dataframe tbody tr th:only-of-type {\n",
       "        vertical-align: middle;\n",
       "    }\n",
       "\n",
       "    .dataframe tbody tr th {\n",
       "        vertical-align: top;\n",
       "    }\n",
       "\n",
       "    .dataframe thead th {\n",
       "        text-align: right;\n",
       "    }\n",
       "</style>\n",
       "<table border=\"1\" class=\"dataframe\">\n",
       "  <thead>\n",
       "    <tr style=\"text-align: right;\">\n",
       "      <th></th>\n",
       "      <th>S.No</th>\n",
       "      <th>Designation</th>\n",
       "      <th>Grade</th>\n",
       "      <th>Attrition</th>\n",
       "      <th>Tenure</th>\n",
       "      <th>Gender</th>\n",
       "      <th>Education</th>\n",
       "      <th>Age</th>\n",
       "      <th>Last Rating</th>\n",
       "      <th>Monthly Income</th>\n",
       "      <th>Engagement Score (% Satisfaction)</th>\n",
       "      <th>Marital Status</th>\n",
       "      <th>Zone</th>\n",
       "      <th>Remarks</th>\n",
       "    </tr>\n",
       "  </thead>\n",
       "  <tbody>\n",
       "    <tr>\n",
       "      <td>0</td>\n",
       "      <td>1</td>\n",
       "      <td>Sales Executive</td>\n",
       "      <td>E1</td>\n",
       "      <td>Yes</td>\n",
       "      <td>1. 6</td>\n",
       "      <td>Female</td>\n",
       "      <td>Bachelors</td>\n",
       "      <td>27</td>\n",
       "      <td>4</td>\n",
       "      <td>25535</td>\n",
       "      <td>0.02</td>\n",
       "      <td>Divorced</td>\n",
       "      <td>WEST</td>\n",
       "      <td>Issues with the Manager</td>\n",
       "    </tr>\n",
       "    <tr>\n",
       "      <td>1</td>\n",
       "      <td>2</td>\n",
       "      <td>Technical Services Officer</td>\n",
       "      <td>M2</td>\n",
       "      <td>Yes</td>\n",
       "      <td>1. 9</td>\n",
       "      <td>Male</td>\n",
       "      <td>MBA</td>\n",
       "      <td>36</td>\n",
       "      <td>2</td>\n",
       "      <td>52155</td>\n",
       "      <td>0.45</td>\n",
       "      <td>Single</td>\n",
       "      <td>SOUTH</td>\n",
       "      <td>More Challenging Job Roles/ Higher designation</td>\n",
       "    </tr>\n",
       "    <tr>\n",
       "      <td>2</td>\n",
       "      <td>3</td>\n",
       "      <td>Sales Executive</td>\n",
       "      <td>E1</td>\n",
       "      <td>Yes</td>\n",
       "      <td>1. 5</td>\n",
       "      <td>Male</td>\n",
       "      <td>Bachelors</td>\n",
       "      <td>24</td>\n",
       "      <td>4</td>\n",
       "      <td>26438</td>\n",
       "      <td>0.18</td>\n",
       "      <td>Divorced</td>\n",
       "      <td>CENTRAL</td>\n",
       "      <td>Issues with the Manager</td>\n",
       "    </tr>\n",
       "    <tr>\n",
       "      <td>3</td>\n",
       "      <td>4</td>\n",
       "      <td>AM - Sales</td>\n",
       "      <td>M1</td>\n",
       "      <td>Yes</td>\n",
       "      <td>3 .11</td>\n",
       "      <td>Male</td>\n",
       "      <td>Bachelors</td>\n",
       "      <td>33</td>\n",
       "      <td>2</td>\n",
       "      <td>54311</td>\n",
       "      <td>0.82</td>\n",
       "      <td>Single</td>\n",
       "      <td>WEST</td>\n",
       "      <td>Lack of Growth</td>\n",
       "    </tr>\n",
       "    <tr>\n",
       "      <td>4</td>\n",
       "      <td>5</td>\n",
       "      <td>Sales Executive</td>\n",
       "      <td>E1</td>\n",
       "      <td>Yes</td>\n",
       "      <td>2 .1</td>\n",
       "      <td>Male</td>\n",
       "      <td>Bachelors</td>\n",
       "      <td>24</td>\n",
       "      <td>4</td>\n",
       "      <td>26702</td>\n",
       "      <td>0.49</td>\n",
       "      <td>Divorced</td>\n",
       "      <td>NORTH</td>\n",
       "      <td>Issues with the Manager</td>\n",
       "    </tr>\n",
       "  </tbody>\n",
       "</table>\n",
       "</div>"
      ],
      "text/plain": [
       "   S.No                 Designation Grade Attrition   Tenure  Gender  \\\n",
       "0     1             Sales Executive    E1        Yes   1. 6   Female   \n",
       "1     2  Technical Services Officer    M2        Yes   1. 9     Male   \n",
       "2     3             Sales Executive    E1        Yes   1. 5     Male   \n",
       "3     4                  AM - Sales    M1        Yes  3 .11     Male   \n",
       "4     5            Sales Executive     E1        Yes   2 .1     Male   \n",
       "\n",
       "   Education  Age  Last Rating  Monthly Income  \\\n",
       "0  Bachelors   27            4           25535   \n",
       "1        MBA   36            2           52155   \n",
       "2  Bachelors   24            4           26438   \n",
       "3  Bachelors   33            2           54311   \n",
       "4  Bachelors   24            4           26702   \n",
       "\n",
       "   Engagement Score (% Satisfaction) Marital Status     Zone  \\\n",
       "0                               0.02       Divorced     WEST   \n",
       "1                               0.45        Single     SOUTH   \n",
       "2                               0.18       Divorced  CENTRAL   \n",
       "3                               0.82        Single      WEST   \n",
       "4                               0.49       Divorced    NORTH   \n",
       "\n",
       "                                          Remarks  \n",
       "0                         Issues with the Manager  \n",
       "1  More Challenging Job Roles/ Higher designation  \n",
       "2                         Issues with the Manager  \n",
       "3                                  Lack of Growth  \n",
       "4                         Issues with the Manager  "
      ]
     },
     "execution_count": 56,
     "metadata": {},
     "output_type": "execute_result"
    }
   ],
   "source": [
    "df.head()"
   ]
  },
  {
   "cell_type": "code",
   "execution_count": 58,
   "metadata": {},
   "outputs": [
    {
     "data": {
      "text/plain": [
       "<matplotlib.axes._subplots.AxesSubplot at 0x1b2ef747e08>"
      ]
     },
     "execution_count": 58,
     "metadata": {},
     "output_type": "execute_result"
    },
    {
     "data": {
      "image/png": "[encoded data removed]",
      "text/plain": [
       "<Figure size 432x288 with 1 Axes>"
      ]
     },
     "metadata": {
      "needs_background": "light"
     },
     "output_type": "display_data"
    }
   ],
   "source": [
    "sns.distplot(df['Engagement Score (% Satisfaction)'])"
   ]
  },
  {
   "cell_type": "code",
   "execution_count": 61,
   "metadata": {},
   "outputs": [
    {
     "data": {
      "text/plain": [
       "<matplotlib.axes._subplots.AxesSubplot at 0x1b2ef856ec8>"
      ]
     },
     "execution_count": 61,
     "metadata": {},
     "output_type": "execute_result"
    },
    {
     "data": {
      "image/png": "[encoded data removed]",
      "text/plain": [
       "<Figure size 432x288 with 2 Axes>"
      ]
     },
     "metadata": {
      "needs_background": "light"
     },
     "output_type": "display_data"
    }
   ],
   "source": [
    "df = df.drop('S.No',axis = 1)\n",
    "sns.heatmap(df.corr())"
   ]
  },
  {
   "cell_type": "code",
   "execution_count": 69,
   "metadata": {},
   "outputs": [
    {
     "data": {
      "image/png": "[encoded data removed]",
      "text/plain": [
       "<Figure size 216x1512 with 7 Axes>"
      ]
     },
     "metadata": {
      "needs_background": "light"
     },
     "output_type": "display_data"
    }
   ],
   "source": [
    "g = sns.FacetGrid(df, row=\"Grade\")\n",
    "g = g.map(plt.hist, \"Engagement Score (% Satisfaction)\")"
   ]
  },
  {
   "cell_type": "code",
   "execution_count": 65,
   "metadata": {},
   "outputs": [
    {
     "data": {
      "image/png": "[encoded data removed]",
      "text/plain": [
       "<Figure size 1296x216 with 6 Axes>"
      ]
     },
     "metadata": {
      "needs_background": "light"
     },
     "output_type": "display_data"
    }
   ],
   "source": [
    "g = sns.FacetGrid(df, col=\"Zone\")\n",
    "g = g.map(plt.hist, \"Engagement Score (% Satisfaction)\")"
   ]
  },
  {
   "cell_type": "code",
   "execution_count": 67,
   "metadata": {
    "scrolled": false
   },
   "outputs": [
    {
     "data": {
      "image/png": "[encoded data removed]",
      "text/plain": [
       "<Figure size 216x2160 with 10 Axes>"
      ]
     },
     "metadata": {
      "needs_background": "light"
     },
     "output_type": "display_data"
    }
   ],
   "source": [
    "g = sns.FacetGrid(df, row=\"Remarks\")\n",
    "g = g.map(plt.hist, \"Engagement Score (% Satisfaction)\")"
   ]
  },
  {
   "cell_type": "code",
   "execution_count": 70,
   "metadata": {},
   "outputs": [
    {
     "data": {
      "image/png": "[encoded data removed]",
      "text/plain": [
       "<Figure size 216x2160 with 10 Axes>"
      ]
     },
     "metadata": {
      "needs_background": "light"
     },
     "output_type": "display_data"
    }
   ],
   "source": [
    "g = sns.FacetGrid(df, row=\"Designation\")\n",
    "g = g.map(plt.hist, \"Engagement Score (% Satisfaction)\")"
   ]
  },
  {
   "cell_type": "code",
   "execution_count": 71,
   "metadata": {},
   "outputs": [
    {
     "data": {
      "image/png": "[encoded data removed]",
      "text/plain": [
       "<Figure size 216x2160 with 10 Axes>"
      ]
     },
     "metadata": {
      "needs_background": "light"
     },
     "output_type": "display_data"
    }
   ],
   "source": [
    "g = sns.FacetGrid(df, row=\"Designation\")\n",
    "g = g.map(plt.hist, \"Monthly Income\")"
   ]
  },
  {
   "cell_type": "code",
   "execution_count": 72,
   "metadata": {},
   "outputs": [
    {
     "data": {
      "image/png": "[encoded data removed]",
      "text/plain": [
       "<Figure size 216x1296 with 6 Axes>"
      ]
     },
     "metadata": {
      "needs_background": "light"
     },
     "output_type": "display_data"
    }
   ],
   "source": [
    "g = sns.FacetGrid(df, row=\"Zone\")\n",
    "g = g.map(plt.hist, \"Monthly Income\")"
   ]
  },
  {
   "cell_type": "code",
   "execution_count": 73,
   "metadata": {},
   "outputs": [
    {
     "data": {
      "image/png": "[encoded data removed]",
      "text/plain": [
       "<Figure size 216x1080 with 5 Axes>"
      ]
     },
     "metadata": {
      "needs_background": "light"
     },
     "output_type": "display_data"
    }
   ],
   "source": [
    "g = sns.FacetGrid(df, row=\"Last Rating\")\n",
    "g = g.map(plt.hist, \"Age\")"
   ]
  },
  {
   "cell_type": "code",
   "execution_count": 74,
   "metadata": {},
   "outputs": [
    {
     "data": {
      "image/png": "[encoded data removed]",
      "text/plain": [
       "<Figure size 216x1080 with 5 Axes>"
      ]
     },
     "metadata": {
      "needs_background": "light"
     },
     "output_type": "display_data"
    }
   ],
   "source": [
    "g = sns.FacetGrid(df, row=\"Last Rating\")\n",
    "g = g.map(plt.hist, \"Engagement Score (% Satisfaction)\")"
   ]
  }
 ],
 "metadata": {
  "kernelspec": {
   "display_name": "Python 3",
   "language": "python",
   "name": "python3"
  },
  "language_info": {
   "codemirror_mode": {
    "name": "ipython",
    "version": 3
   },
   "file_extension": ".py",
   "mimetype": "text/x-python",
   "name": "python",
   "nbconvert_exporter": "python",
   "pygments_lexer": "ipython3",
   "version": "3.7.4"
  }
 },
 "nbformat": 4,
 "nbformat_minor": 2
}
